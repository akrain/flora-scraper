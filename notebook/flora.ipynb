{
 "cells": [
  {
   "cell_type": "code",
   "execution_count": null,
   "id": "dbbf8592-c021-43a2-89e4-caeafef06d4c",
   "metadata": {},
   "outputs": [],
   "source": [
    "%pip install pandas"
   ]
  },
  {
   "cell_type": "code",
   "execution_count": null,
   "id": "24fc6734-4c8f-4b20-9787-e64f30f693ff",
   "metadata": {},
   "outputs": [],
   "source": [
    "import pandas as pd\n",
    "\n",
    "df = pd.read_csv(\"../data/foi_himalayan_flowers.csv\")\n",
    "len(df)"
   ]
  },
  {
   "cell_type": "code",
   "execution_count": null,
   "id": "e5c1e680-b3ba-4ce2-87e2-bd04e88072ec",
   "metadata": {},
   "outputs": [],
   "source": [
    "df.describe()"
   ]
  },
  {
   "cell_type": "code",
   "execution_count": null,
   "id": "67bf433b-a14e-40e0-83f0-6cf811e38598",
   "metadata": {},
   "outputs": [],
   "source": [
    "df.info()"
   ]
  },
  {
   "cell_type": "code",
   "execution_count": null,
   "id": "49c63381-09f8-4e37-91e6-3c0227032e9b",
   "metadata": {},
   "outputs": [],
   "source": [
    "df[df[\"description\"].isnull()]"
   ]
  },
  {
   "cell_type": "code",
   "execution_count": null,
   "id": "9c92756d-f413-4a43-81e4-07ff42f1ba23",
   "metadata": {},
   "outputs": [],
   "source": [
    "df=df[df['description'].notnull()]\n",
    "df.info()"
   ]
  },
  {
   "cell_type": "code",
   "execution_count": null,
   "id": "356dfab3-9655-4b0d-9c56-eef203bf3cd5",
   "metadata": {},
   "outputs": [],
   "source": [
    "df[df.duplicated(\"botanical_name\")]"
   ]
  },
  {
   "cell_type": "code",
   "execution_count": null,
   "id": "5c525258-655a-4fd1-a858-9d3952ebb778",
   "metadata": {},
   "outputs": [],
   "source": [
    "df[\"description\"] = df[\"description\"].str.encode('ascii', errors='ignore').str.decode('ascii')"
   ]
  },
  {
   "cell_type": "code",
   "execution_count": null,
   "id": "eded627c-661a-42c5-a3b2-e6eebd7cadae",
   "metadata": {},
   "outputs": [],
   "source": [
    "df[\"description\"] = df[\"description\"].str.replace(r'\\t|\\n|\\r|\\r\\n', ' ', regex=True)"
   ]
  },
  {
   "cell_type": "code",
   "execution_count": null,
   "id": "d1fa103e-0620-4059-9667-6d86e6919aac",
   "metadata": {},
   "outputs": [],
   "source": [
    "df[\"description\"][3]"
   ]
  },
  {
   "cell_type": "code",
   "execution_count": null,
   "id": "fdf72322-123a-4da2-ba17-393c3ac9fd2d",
   "metadata": {},
   "outputs": [],
   "source": [
    "df.to_csv(\"../data/foi_himalayan_flowers_cleansed.csv\")"
   ]
  }
 ],
 "metadata": {
  "kernelspec": {
   "display_name": "Python 3 (ipykernel)",
   "language": "python",
   "name": "python3"
  },
  "language_info": {
   "codemirror_mode": {
    "name": "ipython",
    "version": 3
   },
   "file_extension": ".py",
   "mimetype": "text/x-python",
   "name": "python",
   "nbconvert_exporter": "python",
   "pygments_lexer": "ipython3",
   "version": "3.13.5"
  }
 },
 "nbformat": 4,
 "nbformat_minor": 5
}
